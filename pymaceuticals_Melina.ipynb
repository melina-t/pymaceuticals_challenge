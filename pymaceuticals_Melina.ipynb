{
  "nbformat": 4,
  "nbformat_minor": 0,
  "metadata": {
    "colab": {
      "provenance": []
    },
    "kernelspec": {
      "name": "python3",
      "display_name": "Python 3"
    },
    "language_info": {
      "name": "python"
    }
  },
  "cells": [
    {
      "cell_type": "markdown",
      "metadata": {
        "id": "Z_8V9vQKYiUP"
      },
      "source": [
        "# Pymaceuticals Inc.\n",
        "---\n",
        "\n",
        "### Analysis\n",
        "\n",
        "- Add your analysis here.\n"
      ]
    },
    {
      "cell_type": "code",
      "execution_count": null,
      "metadata": {
        "id": "Jav8KEh8YiUR"
      },
      "outputs": [],
      "source": [
        "# Dependencies and Setup\n",
        "import matplotlib.pyplot as plt\n",
        "import pandas as pd\n",
        "import scipy.stats as st\n",
        "import numpy as np\n",
        "\n",
        "\n",
        "\n",
        "# Study data files\n",
        "mouse_metadata_path = \"data/Mouse_metadata.csv\"\n",
        "study_results_path = \"data/Study_results.csv\"\n",
        "\n",
        "\n",
        "# Read the mouse data and the study results\n",
        "mouse_metadata = pd.read_csv(mouse_metadata_path)\n",
        "study_results = pd.read_csv(study_results_path)\n",
        "\n",
        "# Combine the data into a single DataFrame\n",
        "mouse_df = pd.merge(mouse_metadata, study_results)\n",
        "\n",
        "# Display the data table for preview\n",
        "mouse_df.head()"
      ]
    },
    {
      "cell_type": "code",
      "execution_count": null,
      "metadata": {
        "id": "iebKiBrsYiUS"
      },
      "outputs": [],
      "source": [
        "# Checking the number of mice.\n",
        "# Found http://pandas.pydata.org/pandas-docs/stable/reference/api/pandas.Series.nunique.html to assist counting the unique values in the DataFrame\n",
        "number_mouse= mouse_df[\"Mouse ID\"].nunique()\n",
        "number_mouse"
      ]
    },
    {
      "cell_type": "code",
      "execution_count": null,
      "metadata": {
        "id": "4n-a2J5rYiUS"
      },
      "outputs": [],
      "source": [
        "# Our data should be uniquely identified by Mouse ID and Timepoint\n",
        "# Get the duplicate mice by ID number that shows up for Mouse ID and Timepoint.\n",
        "dups_mice_id_df = mouse_df.loc[mouse_df.duplicated(subset=[\"Mouse ID\", \"Timepoint\"]), \"Mouse ID\"].unique()\n",
        "dups_mice_id_df"
      ]
    },
    {
      "cell_type": "code",
      "execution_count": null,
      "metadata": {
        "id": "epa9rM9RYiUS"
      },
      "outputs": [],
      "source": [
        "# Optional: Get all the data for the duplicate mouse ID."
      ]
    },
    {
      "cell_type": "code",
      "execution_count": null,
      "metadata": {
        "id": "YQosX0NGYiUS"
      },
      "outputs": [],
      "source": [
        "# Create a clean DataFrame by dropping the duplicate mouse by its ID.\n",
        "# Assistance on how to drop duplicates found here: https://pandas.pydata.org/docs/reference/api/pandas.DataFrame.drop_duplicates.html\n",
        "clean_df = mouse_df.drop_duplicates(subset = ['Mouse ID', 'Timepoint'])\n",
        "clean_df"
      ]
    },
    {
      "cell_type": "code",
      "execution_count": null,
      "metadata": {
        "id": "Kd2-vfgAYiUT"
      },
      "outputs": [],
      "source": [
        "# Checking the number of mice in the clean DataFrame.\n",
        "number_mice= clean_df[\"Mouse ID\"].nunique()\n",
        "number_mice"
      ]
    },
    {
      "cell_type": "markdown",
      "metadata": {
        "id": "yIvyHaCBYiUT"
      },
      "source": [
        "## Summary Statistics"
      ]
    },
    {
      "cell_type": "code",
      "execution_count": null,
      "metadata": {
        "id": "S_aV4qe7YiUT"
      },
      "outputs": [],
      "source": [
        "# Generate a summary statistics table of mean, median, variance, standard deviation, and SEM of the tumor volume for each regimen\n",
        "\n",
        "# Use groupby and summary statistical methods to calculate the following properties of each drug regimen:\n",
        "# mean, median, variance, standard deviation, and SEM of the tumor volume.\n",
        "# Assemble the resulting series into a single summary DataFrame.\n",
        "\n",
        "summary_mean = clean_df.groupby(\"Drug Regimen\").mean()[\"Tumor Volume (mm3)\"]\n",
        "summary_median = clean_df.groupby(\"Drug Regimen\").median()[\"Tumor Volume (mm3)\"]\n",
        "summary_variance = clean_df.groupby(\"Drug Regimen\").var()[\"Tumor Volume (mm3)\"]\n",
        "summary_stdv = clean_df.groupby(\"Drug Regimen\").std()[\"Tumor Volume (mm3)\"]\n",
        "summary_sem = clean_df.groupby(\"Drug Regimen\").sem()[\"Tumor Volume (mm3)\"]\n",
        "\n",
        "# Assemble the resulting series into a single summary DataFrame.\n",
        "summary_table = pd.DataFrame({\n",
        "                              \"Mean Tumor Volume\": summary_mean,\n",
        "                              \"Median Tumor Volume\": summary_median,\n",
        "                              \"Tumor Volume Variance\": summary_variance,\n",
        "                              \"Tumor Volume Std. Dev.\": summary_stdv,\n",
        "                              \"Tumor Volume Std. Err.\": summary_sem\n",
        "\n",
        "})\n",
        "\n",
        "summary_table"
      ]
    },
    {
      "cell_type": "code",
      "execution_count": null,
      "metadata": {
        "id": "9MgDm6vZYiUT"
      },
      "outputs": [],
      "source": [
        "# A more advanced method to generate a summary statistics table of mean, median, variance, standard deviation,\n",
        "# and SEM of the tumor volume for each regimen (only one method is required in the solution)\n",
        "\n",
        "# Using the aggregation method, produce the same summary statistics in a single line\n"
      ]
    },
    {
      "cell_type": "markdown",
      "metadata": {
        "id": "ECcrNBh2YiUT"
      },
      "source": [
        "## Bar and Pie Charts"
      ]
    },
    {
      "cell_type": "code",
      "execution_count": null,
      "metadata": {
        "id": "cO1RrGMiYiUT"
      },
      "outputs": [],
      "source": [
        "# Generate a bar plot showing the total number of rows (Mouse ID/Timepoints) for each drug regimen using Pandas.\n",
        "mice_drug = clean_df.groupby([\"Drug Regimen\"]).count()[\"Mouse ID\"]\n",
        "\n",
        "plt_chart = mice_drug.plot(kind=\"bar\", color=\"b\",figsize=(6,8))\n",
        "plt_chart.set_xlabel(\"Drug Regimen\")\n",
        "plt_chart.set_ylabel(\"# of Observed Mouse Timepoints\")\n",
        "\n",
        "plt.show()\n",
        "plt.tight_layout()\n"
      ]
    },
    {
      "cell_type": "code",
      "execution_count": null,
      "metadata": {
        "id": "xP2xIWi4YiUT"
      },
      "outputs": [],
      "source": [
        "# Generate a bar plot showing the total number of rows (Mouse ID/Timepoints) for each drug regimen using pyplot.\n",
        "type_drug = clean_df[\"Drug Regimen\"].unique()\n",
        "\n",
        "x_axis = type_drug\n",
        "y_axis = clean_df.groupby([\"Drug Regimen\"]).count()[\"Mouse ID\"]\n",
        "\n",
        "plt.xlabel(\"Drug Regimen\")\n",
        "plt.ylabel(\"# of Observed Mouse Timepoints\")\n",
        "plt.bar(x_axis, mice_drug, facecolor=\"blue\", alpha=0.75, align=\"edge\")\n",
        "plt.show()"
      ]
    },
    {
      "cell_type": "code",
      "execution_count": null,
      "metadata": {
        "id": "wz0vcwqaYiUU"
      },
      "outputs": [],
      "source": [
        "# Generate a pie plot showing the distribution of female versus male mice using Pandas\n",
        "gender_data = clean_df[\"Sex\"].value_counts()\n",
        "gender_data.plot.pie(autopct = '%1.1f%%')\n",
        "plt.show()"
      ]
    },
    {
      "cell_type": "code",
      "execution_count": null,
      "metadata": {
        "id": "1J7hXkixYiUU"
      },
      "outputs": [],
      "source": [
        "# Generate a pie plot showing the distribution of female versus male mice using pyplot\n",
        "gender_data = clean_df[\"Sex\"].value_counts()\n",
        "plt.pie(gender_data, autopct=\"%1.1f%%\", shadow =True)\n",
        "plt.show()"
      ]
    },
    {
      "cell_type": "markdown",
      "metadata": {
        "id": "13bsNXdSYiUU"
      },
      "source": [
        "## Quartiles, Outliers and Boxplots"
      ]
    },
    {
      "cell_type": "code",
      "execution_count": null,
      "metadata": {
        "id": "EEaQStG9YiUU"
      },
      "outputs": [],
      "source": [
        "# Calculate the final tumor volume of each mouse across four of the treatment regimens:\n",
        "# Capomulin, Ramicane, Infubinol, and Ceftamin\n",
        "\n",
        "# Start by getting the last (greatest) timepoint for each mouse\n",
        "\n",
        "\n",
        "# Merge this group df with the original DataFrame to get the tumor volume at the last timepoint\n"
      ]
    },
    {
      "cell_type": "code",
      "execution_count": null,
      "metadata": {
        "id": "SgDSL1BaYiUU"
      },
      "outputs": [],
      "source": [
        "# Put treatments into a list for for loop (and later for plot labels)\n",
        "\n",
        "\n",
        "# Create empty list to fill with tumor vol data (for plotting)\n",
        "\n",
        "\n",
        "# Calculate the IQR and quantitatively determine if there are any potential outliers.\n",
        "\n",
        "\n",
        "    # Locate the rows which contain mice on each drug and get the tumor volumes\n",
        "\n",
        "\n",
        "    # add subset\n",
        "\n",
        "\n",
        "    # Determine outliers using upper and lower bounds\n"
      ]
    },
    {
      "cell_type": "code",
      "execution_count": null,
      "metadata": {
        "id": "ymOr7SJaYiUU"
      },
      "outputs": [],
      "source": [
        "# Generate a box plot that shows the distrubution of the tumor volume for each treatment group.\n"
      ]
    },
    {
      "cell_type": "markdown",
      "metadata": {
        "id": "h3aOlALrYiUU"
      },
      "source": [
        "## Line and Scatter Plots"
      ]
    },
    {
      "cell_type": "code",
      "execution_count": null,
      "metadata": {
        "id": "bUTNT4aXYiUU"
      },
      "outputs": [],
      "source": [
        "# Generate a line plot of tumor volume vs. time point for a single mouse treated with Capomulin\n",
        "capomulin_df = clean_df.loc[clean_df[\"Drug Regimen\"] == \"Capomulin\"]\n",
        "capomulin_df\n",
        "mouse_capo_df = capomulin_df.loc[capomulin_df[\"Mouse ID\"] == \"l509\"]\n",
        "mouse_capo_df\n",
        "\n",
        "x_axis = mouse_capo_df[\"Timepoint\"]\n",
        "tumor_vol = mouse_capo_df[\"Tumor Volume (mm3)\"]\n",
        "\n",
        "plt.plot(x_axis,tumor_vol, color=\"blue\")\n",
        "plt.title(\"Capomulin treatment of mouse l509\")\n",
        "plt.xlabel(\"Timepoint (Days)\")\n",
        "plt.ylabel(\"Tumor Volume (mm3)\")\n",
        "plt.show()"
      ]
    },
    {
      "cell_type": "code",
      "execution_count": null,
      "metadata": {
        "id": "DT0X6X18YiUU"
      },
      "outputs": [],
      "source": [
        "# Generate a scatter plot of mouse weight vs. the average observed tumor volume for the entire Capomulin regimen\n",
        "#capomulin_df = clean_df.loc[clean_df[\"Drug Regimen\"] == \"Capomulin\"]\n",
        "avg_capomulin_df = clean_df.loc[clean_df[\"Drug Regimen\"] == \"Capomulin\"].groupby(\"Mouse ID\")\n",
        "mouse_weight_df = avg_capomulin_df[\"Weight (g)\"].unique()\n",
        "avg_tumor_df = avg_capomulin_df[\"Tumor Volume (mm3)\"].mean()\n",
        "\n",
        "plt.scatter(mouse_weight_df,avg_tumor_df)\n",
        "plt.xlabel(\"Weight (g)\")\n",
        "plt.ylabel(\"Avg Tumor Volume (mm3)\")\n",
        "plt.show()"
      ]
    },
    {
      "cell_type": "markdown",
      "metadata": {
        "id": "yd33fuVIYiUU"
      },
      "source": [
        "## Correlation and Regression"
      ]
    },
    {
      "cell_type": "code",
      "execution_count": null,
      "metadata": {
        "id": "AjlMm8Y0YiUU"
      },
      "outputs": [],
      "source": [
        "# Calculate the correlation coefficient and a linear regression model\n",
        "# for mouse weight and average observed tumor volume for the entire Capomulin regimen\n",
        "avg_capomulin_df = clean_df.loc[clean_df[\"Drug Regimen\"] == \"Capomulin\"].groupby(\"Mouse ID\")\n",
        "mouse_weight_df = avg_capomulin_df[\"Weight (g)\"].unique()\n",
        "avg_tumor_df = avg_capomulin_df[\"Tumor Volume (mm3)\"].mean()\n",
        "\n",
        "\n",
        "(slope, intercept, rvalue, pvalue, stderr) = linregress(mouse_weight_df, avg_tumor_df)\n",
        "regress_values = mouse_weight_df * slope + intercept\n",
        "line_eq = \"y = \" + str(round(slope,2)) + \"x = \" + str(round(intercept,2))\n",
        "\n",
        "plt.scatter(mouse_weight_df,avg_tumor_df)\n",
        "plt.xlabel(\"Weight (g)\")\n",
        "plt.ylabel(\"Avg Tumor Volume (mm3)\")"
      ]
    }
  ]
}